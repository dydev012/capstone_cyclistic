{
 "cells": [
  {
   "cell_type": "code",
   "execution_count": null,
   "metadata": {},
   "outputs": [],
   "source": [
    "import pandas as pd\n",
    "import numpy as np\n",
    "import glob2\n",
    "import os"
   ]
  },
  {
   "cell_type": "code",
   "execution_count": null,
   "metadata": {},
   "outputs": [],
   "source": [
    "path = os.getcwd() + '/data'\n",
    "filenames = glob2.glob(path + \"/*.csv\")\n",
    "\n",
    "dfs = []\n",
    "for filename in filenames:\n",
    "    df = pd.read_csv(filename)\n",
    "    dfs.append(df)"
   ]
  },
  {
   "cell_type": "code",
   "execution_count": null,
   "metadata": {},
   "outputs": [],
   "source": [
    "# Check that all column names in all dataframes are identical so\n",
    "# that we can us pd.concat and save some headaches\n",
    "def areColumnNamesIdentical(dfs: list):\n",
    "    #TODO: check for number of columns in each df\n",
    "    for df in dfs:\n",
    "        if not all(dfs[0].columns == df.columns):\n",
    "            return False\n",
    "    return True\n",
    "\n",
    "if areColumnNamesIdentical(dfs):\n",
    "    df = pd.concat(dfs, join=\"outer\", axis=0, ignore_index=True)\n",
    "\n",
    "del dfs\n",
    "df.head()"
   ]
  },
  {
   "cell_type": "code",
   "execution_count": null,
   "metadata": {},
   "outputs": [],
   "source": [
    "df.to_csv(path+'/processed/tripdata.csv', index=False)  "
   ]
  }
 ],
 "metadata": {
  "language_info": {
   "name": "python"
  },
  "orig_nbformat": 4
 },
 "nbformat": 4,
 "nbformat_minor": 2
}
