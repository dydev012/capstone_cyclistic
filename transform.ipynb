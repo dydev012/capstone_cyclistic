{
 "cells": [
  {
   "cell_type": "code",
   "execution_count": 1,
   "metadata": {},
   "outputs": [],
   "source": [
    "import pandas as pd\n",
    "import glob2\n",
    "import os"
   ]
  },
  {
   "attachments": {},
   "cell_type": "markdown",
   "metadata": {},
   "source": [
    "### 1) Combining The 12 month data into a single dataset"
   ]
  },
  {
   "cell_type": "code",
   "execution_count": 2,
   "metadata": {},
   "outputs": [],
   "source": [
    "path = os.getcwd() + \"/data\"\n",
    "filenames = glob2.glob(path + \"/*.csv\")\n",
    "\n",
    "dfs = []\n",
    "for filename in filenames:\n",
    "    df = pd.read_csv(filename)\n",
    "    dfs.append(df)"
   ]
  },
  {
   "cell_type": "code",
   "execution_count": 3,
   "metadata": {},
   "outputs": [
    {
     "data": {
      "text/html": [
       "<div>\n",
       "<style scoped>\n",
       "    .dataframe tbody tr th:only-of-type {\n",
       "        vertical-align: middle;\n",
       "    }\n",
       "\n",
       "    .dataframe tbody tr th {\n",
       "        vertical-align: top;\n",
       "    }\n",
       "\n",
       "    .dataframe thead th {\n",
       "        text-align: right;\n",
       "    }\n",
       "</style>\n",
       "<table border=\"1\" class=\"dataframe\">\n",
       "  <thead>\n",
       "    <tr style=\"text-align: right;\">\n",
       "      <th></th>\n",
       "      <th>ride_id</th>\n",
       "      <th>rideable_type</th>\n",
       "      <th>started_at</th>\n",
       "      <th>ended_at</th>\n",
       "      <th>start_station_name</th>\n",
       "      <th>start_station_id</th>\n",
       "      <th>end_station_name</th>\n",
       "      <th>end_station_id</th>\n",
       "      <th>start_lat</th>\n",
       "      <th>start_lng</th>\n",
       "      <th>end_lat</th>\n",
       "      <th>end_lng</th>\n",
       "      <th>member_casual</th>\n",
       "    </tr>\n",
       "  </thead>\n",
       "  <tbody>\n",
       "    <tr>\n",
       "      <th>0</th>\n",
       "      <td>EC2DE40644C6B0F4</td>\n",
       "      <td>classic_bike</td>\n",
       "      <td>2022-05-23 23:06:58</td>\n",
       "      <td>2022-05-23 23:40:19</td>\n",
       "      <td>Wabash Ave &amp; Grand Ave</td>\n",
       "      <td>TA1307000117</td>\n",
       "      <td>Halsted St &amp; Roscoe St</td>\n",
       "      <td>TA1309000025</td>\n",
       "      <td>41.891466</td>\n",
       "      <td>-87.626761</td>\n",
       "      <td>41.943670</td>\n",
       "      <td>-87.648950</td>\n",
       "      <td>member</td>\n",
       "    </tr>\n",
       "    <tr>\n",
       "      <th>1</th>\n",
       "      <td>1C31AD03897EE385</td>\n",
       "      <td>classic_bike</td>\n",
       "      <td>2022-05-11 08:53:28</td>\n",
       "      <td>2022-05-11 09:31:22</td>\n",
       "      <td>DuSable Lake Shore Dr &amp; Monroe St</td>\n",
       "      <td>13300</td>\n",
       "      <td>Field Blvd &amp; South Water St</td>\n",
       "      <td>15534</td>\n",
       "      <td>41.880958</td>\n",
       "      <td>-87.616743</td>\n",
       "      <td>41.886349</td>\n",
       "      <td>-87.617517</td>\n",
       "      <td>member</td>\n",
       "    </tr>\n",
       "    <tr>\n",
       "      <th>2</th>\n",
       "      <td>1542FBEC830415CF</td>\n",
       "      <td>classic_bike</td>\n",
       "      <td>2022-05-26 18:36:28</td>\n",
       "      <td>2022-05-26 18:58:18</td>\n",
       "      <td>Clinton St &amp; Madison St</td>\n",
       "      <td>TA1305000032</td>\n",
       "      <td>Wood St &amp; Milwaukee Ave</td>\n",
       "      <td>13221</td>\n",
       "      <td>41.882242</td>\n",
       "      <td>-87.641066</td>\n",
       "      <td>41.907655</td>\n",
       "      <td>-87.672552</td>\n",
       "      <td>member</td>\n",
       "    </tr>\n",
       "    <tr>\n",
       "      <th>3</th>\n",
       "      <td>6FF59852924528F8</td>\n",
       "      <td>classic_bike</td>\n",
       "      <td>2022-05-10 07:30:07</td>\n",
       "      <td>2022-05-10 07:38:49</td>\n",
       "      <td>Clinton St &amp; Madison St</td>\n",
       "      <td>TA1305000032</td>\n",
       "      <td>Clark St &amp; Randolph St</td>\n",
       "      <td>TA1305000030</td>\n",
       "      <td>41.882242</td>\n",
       "      <td>-87.641066</td>\n",
       "      <td>41.884576</td>\n",
       "      <td>-87.631890</td>\n",
       "      <td>member</td>\n",
       "    </tr>\n",
       "    <tr>\n",
       "      <th>4</th>\n",
       "      <td>483C52CAAE12E3AC</td>\n",
       "      <td>classic_bike</td>\n",
       "      <td>2022-05-10 17:31:56</td>\n",
       "      <td>2022-05-10 17:36:57</td>\n",
       "      <td>Clinton St &amp; Madison St</td>\n",
       "      <td>TA1305000032</td>\n",
       "      <td>Morgan St &amp; Lake St</td>\n",
       "      <td>TA1306000015</td>\n",
       "      <td>41.882242</td>\n",
       "      <td>-87.641066</td>\n",
       "      <td>41.885779</td>\n",
       "      <td>-87.651025</td>\n",
       "      <td>member</td>\n",
       "    </tr>\n",
       "  </tbody>\n",
       "</table>\n",
       "</div>"
      ],
      "text/plain": [
       "            ride_id rideable_type           started_at             ended_at  \\\n",
       "0  EC2DE40644C6B0F4  classic_bike  2022-05-23 23:06:58  2022-05-23 23:40:19   \n",
       "1  1C31AD03897EE385  classic_bike  2022-05-11 08:53:28  2022-05-11 09:31:22   \n",
       "2  1542FBEC830415CF  classic_bike  2022-05-26 18:36:28  2022-05-26 18:58:18   \n",
       "3  6FF59852924528F8  classic_bike  2022-05-10 07:30:07  2022-05-10 07:38:49   \n",
       "4  483C52CAAE12E3AC  classic_bike  2022-05-10 17:31:56  2022-05-10 17:36:57   \n",
       "\n",
       "                  start_station_name start_station_id  \\\n",
       "0             Wabash Ave & Grand Ave     TA1307000117   \n",
       "1  DuSable Lake Shore Dr & Monroe St            13300   \n",
       "2            Clinton St & Madison St     TA1305000032   \n",
       "3            Clinton St & Madison St     TA1305000032   \n",
       "4            Clinton St & Madison St     TA1305000032   \n",
       "\n",
       "              end_station_name end_station_id  start_lat  start_lng  \\\n",
       "0       Halsted St & Roscoe St   TA1309000025  41.891466 -87.626761   \n",
       "1  Field Blvd & South Water St          15534  41.880958 -87.616743   \n",
       "2      Wood St & Milwaukee Ave          13221  41.882242 -87.641066   \n",
       "3       Clark St & Randolph St   TA1305000030  41.882242 -87.641066   \n",
       "4          Morgan St & Lake St   TA1306000015  41.882242 -87.641066   \n",
       "\n",
       "     end_lat    end_lng member_casual  \n",
       "0  41.943670 -87.648950        member  \n",
       "1  41.886349 -87.617517        member  \n",
       "2  41.907655 -87.672552        member  \n",
       "3  41.884576 -87.631890        member  \n",
       "4  41.885779 -87.651025        member  "
      ]
     },
     "execution_count": 3,
     "metadata": {},
     "output_type": "execute_result"
    }
   ],
   "source": [
    "# Check that all column names in all dataframes are identical so\n",
    "# that we can us pd.concat and save some headaches\n",
    "def areColumnNamesIdentical(dfs: list):\n",
    "    # TODO: check for number of columns in each df\n",
    "    for df in dfs:\n",
    "        if not all(dfs[0].columns == df.columns):\n",
    "            return False\n",
    "    return True\n",
    "\n",
    "\n",
    "if areColumnNamesIdentical(dfs):\n",
    "    df = pd.concat(dfs, join=\"outer\", axis=0, ignore_index=True)\n",
    "\n",
    "del dfs\n",
    "df.head()"
   ]
  },
  {
   "cell_type": "code",
   "execution_count": 4,
   "metadata": {},
   "outputs": [
    {
     "data": {
      "text/plain": [
       "(5859061, 13)"
      ]
     },
     "execution_count": 4,
     "metadata": {},
     "output_type": "execute_result"
    }
   ],
   "source": [
    "df.shape"
   ]
  },
  {
   "cell_type": "code",
   "execution_count": 5,
   "metadata": {},
   "outputs": [
    {
     "data": {
      "text/plain": [
       "ride_id                object\n",
       "rideable_type          object\n",
       "started_at             object\n",
       "ended_at               object\n",
       "start_station_name     object\n",
       "start_station_id       object\n",
       "end_station_name       object\n",
       "end_station_id         object\n",
       "start_lat             float64\n",
       "start_lng             float64\n",
       "end_lat               float64\n",
       "end_lng               float64\n",
       "member_casual          object\n",
       "dtype: object"
      ]
     },
     "execution_count": 5,
     "metadata": {},
     "output_type": "execute_result"
    }
   ],
   "source": [
    "df.dtypes"
   ]
  },
  {
   "cell_type": "code",
   "execution_count": 6,
   "metadata": {},
   "outputs": [
    {
     "data": {
      "text/plain": [
       "ride_id                       object\n",
       "rideable_type                 object\n",
       "started_at            datetime64[ns]\n",
       "ended_at              datetime64[ns]\n",
       "start_station_name            object\n",
       "start_station_id              object\n",
       "end_station_name              object\n",
       "end_station_id                object\n",
       "start_lat                    float64\n",
       "start_lng                    float64\n",
       "end_lat                      float64\n",
       "end_lng                      float64\n",
       "member_casual                 object\n",
       "dtype: object"
      ]
     },
     "execution_count": 6,
     "metadata": {},
     "output_type": "execute_result"
    }
   ],
   "source": [
    "# changing times to datetime from object for easy comparisons\n",
    "df[\"started_at\"] = pd.to_datetime(df[\"started_at\"], format=\"%Y-%m-%d %H:%M:%S\")\n",
    "df[\"ended_at\"] = pd.to_datetime(df[\"ended_at\"], format=\"%Y-%m-%d %H:%M:%S\")\n",
    "df.dtypes"
   ]
  },
  {
   "attachments": {},
   "cell_type": "markdown",
   "metadata": {},
   "source": [
    "#### 2) Check for duplicates"
   ]
  },
  {
   "cell_type": "code",
   "execution_count": 7,
   "metadata": {},
   "outputs": [
    {
     "data": {
      "text/plain": [
       "False"
      ]
     },
     "execution_count": 7,
     "metadata": {},
     "output_type": "execute_result"
    }
   ],
   "source": [
    "# Identical Rows?\n",
    "any(df.duplicated())"
   ]
  },
  {
   "cell_type": "code",
   "execution_count": 8,
   "metadata": {},
   "outputs": [
    {
     "data": {
      "text/plain": [
       "False"
      ]
     },
     "execution_count": 8,
     "metadata": {},
     "output_type": "execute_result"
    }
   ],
   "source": [
    "# Duplicate Ride IDs?\n",
    "any(df.duplicated(subset=[\"ride_id\"]))"
   ]
  },
  {
   "cell_type": "code",
   "execution_count": 9,
   "metadata": {},
   "outputs": [
    {
     "data": {
      "text/plain": [
       "False    5859040\n",
       "True          21\n",
       "Name: count, dtype: int64"
      ]
     },
     "execution_count": 9,
     "metadata": {},
     "output_type": "execute_result"
    }
   ],
   "source": [
    "# Duplicate Rides?\n",
    "df.duplicated(\n",
    "    subset=[\n",
    "        \"started_at\",\n",
    "        \"ended_at\",\n",
    "        \"start_lat\",\n",
    "        \"start_lng\",\n",
    "        \"end_lat\",\n",
    "        \"end_lng\",\n",
    "        \"member_casual\",\n",
    "        \"start_station_name\",\n",
    "        \"end_station_name\",\n",
    "    ]\n",
    ").value_counts()"
   ]
  },
  {
   "attachments": {},
   "cell_type": "markdown",
   "metadata": {},
   "source": [
    "21 rides have started and ended at the exact same time and locations. Without further identifying information it's not possible to tell whether this is a companion ride or a software issue, but due to the small sample size, there is no need to dig further and it can be safely assumed to be companion rides."
   ]
  },
  {
   "attachments": {},
   "cell_type": "markdown",
   "metadata": {},
   "source": [
    "### 3) Checking for missing values"
   ]
  },
  {
   "cell_type": "code",
   "execution_count": 10,
   "metadata": {},
   "outputs": [
    {
     "data": {
      "text/plain": [
       "ride_id                    0\n",
       "rideable_type              0\n",
       "started_at                 0\n",
       "ended_at                   0\n",
       "start_station_name    832009\n",
       "start_station_id      832141\n",
       "end_station_name      889661\n",
       "end_station_id        889802\n",
       "start_lat                  0\n",
       "start_lng                  0\n",
       "end_lat                 5973\n",
       "end_lng                 5973\n",
       "member_casual              0\n",
       "dtype: int64"
      ]
     },
     "execution_count": 10,
     "metadata": {},
     "output_type": "execute_result"
    }
   ],
   "source": [
    "df.isna().sum()"
   ]
  },
  {
   "attachments": {},
   "cell_type": "markdown",
   "metadata": {},
   "source": [
    "**About 15% of data has missing start and end station name**. However only a tiny percentage of end GPS coordinates are missing. We can try to reverse engineer the street names from GPS coordinates using geopy."
   ]
  },
  {
   "attachments": {},
   "cell_type": "markdown",
   "metadata": {},
   "source": [
    "### Which dates are most of the missing values from?"
   ]
  },
  {
   "cell_type": "code",
   "execution_count": 11,
   "metadata": {},
   "outputs": [
    {
     "data": {
      "text/plain": [
       "(1324816, 13)"
      ]
     },
     "execution_count": 11,
     "metadata": {},
     "output_type": "execute_result"
    }
   ],
   "source": [
    "def amountNullInCol(df, col):\n",
    "    return df[col].isnull().value_counts()\n",
    "\n",
    "\n",
    "def getRowsWhereObsMissing(df, col1, col2):\n",
    "    \"\"\"\n",
    "    return df where observation is null in atleast one of the two columns\n",
    "    without duplicate observations\n",
    "    \"\"\"\n",
    "    df1 = df[df[col1].isnull()]\n",
    "    df2 = df[df[col2].isnull()]\n",
    "    return pd.concat([df1, df2]).drop_duplicates()\n",
    "\n",
    "\n",
    "df1 = getRowsWhereObsMissing(df, \"start_station_name\", \"end_station_name\")\n",
    "df1.shape"
   ]
  },
  {
   "attachments": {},
   "cell_type": "markdown",
   "metadata": {},
   "source": [
    "**So we have 1.3m (22%) observations that have one of the station names missing or both. Where are they all from?**"
   ]
  },
  {
   "cell_type": "code",
   "execution_count": 12,
   "metadata": {},
   "outputs": [],
   "source": [
    "_map = {\n",
    "    5: \"May '22\",\n",
    "    6: \"June '22\",\n",
    "    7: \"Jul '22\",\n",
    "    8: \"Aug '22\",\n",
    "    9: \"Sep '22\",\n",
    "    10: \"Oct '22\",\n",
    "    11: \"Nov '22\",\n",
    "    12: \"Dec '22\",\n",
    "    1: \"Jan '23\",\n",
    "    2: \"Feb '23\",\n",
    "    3: \"March '23\",\n",
    "    4: \"Apr '23\",\n",
    "}\n",
    "df1[\"started_at\"] = df1[\"started_at\"].dt.month.map(_map)\n",
    "df1[\"ended_at\"] = df1[\"ended_at\"].dt.month.map(_map)"
   ]
  },
  {
   "cell_type": "code",
   "execution_count": 13,
   "metadata": {},
   "outputs": [
    {
     "data": {
      "text/plain": [
       "<Axes: title={'center': 'Missing Station Names by Month'}>"
      ]
     },
     "execution_count": 13,
     "metadata": {},
     "output_type": "execute_result"
    },
    {
     "data": {
      "image/png": "[encoded data removed]",
      "text/plain": [
       "<Figure size 640x480 with 1 Axes>"
      ]
     },
     "metadata": {},
     "output_type": "display_data"
    }
   ],
   "source": [
    "df1[\"ride_id\"].groupby(df1[\"started_at\"], sort=False).count().plot(\n",
    "    kind=\"bar\", title=\"Missing Station Names by Month\", xlabel=\"\", rot=45\n",
    ")"
   ]
  },
  {
   "attachments": {},
   "cell_type": "markdown",
   "metadata": {},
   "source": [
    "The majority of missing station names are from 2022. There is a sharp decline into 2023. Since most of GPS values are in the table for most of the observations, this implies it is an administrative or software error. It would be interesting to see if there are any associations between GPS location and missing station names.\n",
    "\n",
    "Dropping the missing station names, we would lose a disproportionately larger amount of data from 2022 than in 2023. It is unecessary to drop the values since it is possible to reverse geocode the street names from the gps coordinates in the future."
   ]
  },
  {
   "cell_type": "code",
   "execution_count": 14,
   "metadata": {},
   "outputs": [],
   "source": [
    "del df1\n",
    "del _map"
   ]
  },
  {
   "attachments": {},
   "cell_type": "markdown",
   "metadata": {},
   "source": [
    "#### 4) Adding Useful Columns"
   ]
  },
  {
   "cell_type": "code",
   "execution_count": 15,
   "metadata": {},
   "outputs": [
    {
     "data": {
      "text/html": [
       "<div>\n",
       "<style scoped>\n",
       "    .dataframe tbody tr th:only-of-type {\n",
       "        vertical-align: middle;\n",
       "    }\n",
       "\n",
       "    .dataframe tbody tr th {\n",
       "        vertical-align: top;\n",
       "    }\n",
       "\n",
       "    .dataframe thead th {\n",
       "        text-align: right;\n",
       "    }\n",
       "</style>\n",
       "<table border=\"1\" class=\"dataframe\">\n",
       "  <thead>\n",
       "    <tr style=\"text-align: right;\">\n",
       "      <th></th>\n",
       "      <th>ride_id</th>\n",
       "      <th>rideable_type</th>\n",
       "      <th>started_at</th>\n",
       "      <th>started_hour</th>\n",
       "      <th>month</th>\n",
       "      <th>day_of_week</th>\n",
       "      <th>ended_at</th>\n",
       "      <th>ride_length_mins</th>\n",
       "      <th>start_station_name</th>\n",
       "      <th>start_station_id</th>\n",
       "      <th>end_station_name</th>\n",
       "      <th>end_station_id</th>\n",
       "      <th>start_lat</th>\n",
       "      <th>start_lng</th>\n",
       "      <th>end_lat</th>\n",
       "      <th>end_lng</th>\n",
       "      <th>member_casual</th>\n",
       "      <th>start_gps</th>\n",
       "      <th>end_gps</th>\n",
       "      <th>time_type</th>\n",
       "    </tr>\n",
       "  </thead>\n",
       "  <tbody>\n",
       "    <tr>\n",
       "      <th>0</th>\n",
       "      <td>EC2DE40644C6B0F4</td>\n",
       "      <td>classic_bike</td>\n",
       "      <td>2022-05-23 23:06:58</td>\n",
       "      <td>23</td>\n",
       "      <td>May</td>\n",
       "      <td>Monday</td>\n",
       "      <td>2022-05-23 23:40:19</td>\n",
       "      <td>33.350000</td>\n",
       "      <td>Wabash Ave &amp; Grand Ave</td>\n",
       "      <td>TA1307000117</td>\n",
       "      <td>Halsted St &amp; Roscoe St</td>\n",
       "      <td>TA1309000025</td>\n",
       "      <td>41.891466</td>\n",
       "      <td>-87.626761</td>\n",
       "      <td>41.943670</td>\n",
       "      <td>-87.648950</td>\n",
       "      <td>member</td>\n",
       "      <td>41.891466, -87.626761</td>\n",
       "      <td>41.94367, -87.64895</td>\n",
       "      <td>Night</td>\n",
       "    </tr>\n",
       "    <tr>\n",
       "      <th>1</th>\n",
       "      <td>1C31AD03897EE385</td>\n",
       "      <td>classic_bike</td>\n",
       "      <td>2022-05-11 08:53:28</td>\n",
       "      <td>8</td>\n",
       "      <td>May</td>\n",
       "      <td>Wednesday</td>\n",
       "      <td>2022-05-11 09:31:22</td>\n",
       "      <td>37.900000</td>\n",
       "      <td>DuSable Lake Shore Dr &amp; Monroe St</td>\n",
       "      <td>13300</td>\n",
       "      <td>Field Blvd &amp; South Water St</td>\n",
       "      <td>15534</td>\n",
       "      <td>41.880958</td>\n",
       "      <td>-87.616743</td>\n",
       "      <td>41.886349</td>\n",
       "      <td>-87.617517</td>\n",
       "      <td>member</td>\n",
       "      <td>41.880958, -87.616743</td>\n",
       "      <td>41.88634906269, -87.6175165471</td>\n",
       "      <td>Morning</td>\n",
       "    </tr>\n",
       "    <tr>\n",
       "      <th>2</th>\n",
       "      <td>1542FBEC830415CF</td>\n",
       "      <td>classic_bike</td>\n",
       "      <td>2022-05-26 18:36:28</td>\n",
       "      <td>18</td>\n",
       "      <td>May</td>\n",
       "      <td>Thursday</td>\n",
       "      <td>2022-05-26 18:58:18</td>\n",
       "      <td>21.833333</td>\n",
       "      <td>Clinton St &amp; Madison St</td>\n",
       "      <td>TA1305000032</td>\n",
       "      <td>Wood St &amp; Milwaukee Ave</td>\n",
       "      <td>13221</td>\n",
       "      <td>41.882242</td>\n",
       "      <td>-87.641066</td>\n",
       "      <td>41.907655</td>\n",
       "      <td>-87.672552</td>\n",
       "      <td>member</td>\n",
       "      <td>41.882242, -87.641066</td>\n",
       "      <td>41.907655, -87.672552</td>\n",
       "      <td>Evening</td>\n",
       "    </tr>\n",
       "    <tr>\n",
       "      <th>3</th>\n",
       "      <td>6FF59852924528F8</td>\n",
       "      <td>classic_bike</td>\n",
       "      <td>2022-05-10 07:30:07</td>\n",
       "      <td>7</td>\n",
       "      <td>May</td>\n",
       "      <td>Tuesday</td>\n",
       "      <td>2022-05-10 07:38:49</td>\n",
       "      <td>8.700000</td>\n",
       "      <td>Clinton St &amp; Madison St</td>\n",
       "      <td>TA1305000032</td>\n",
       "      <td>Clark St &amp; Randolph St</td>\n",
       "      <td>TA1305000030</td>\n",
       "      <td>41.882242</td>\n",
       "      <td>-87.641066</td>\n",
       "      <td>41.884576</td>\n",
       "      <td>-87.631890</td>\n",
       "      <td>member</td>\n",
       "      <td>41.882242, -87.641066</td>\n",
       "      <td>41.884576228, -87.63188991</td>\n",
       "      <td>Morning</td>\n",
       "    </tr>\n",
       "    <tr>\n",
       "      <th>4</th>\n",
       "      <td>483C52CAAE12E3AC</td>\n",
       "      <td>classic_bike</td>\n",
       "      <td>2022-05-10 17:31:56</td>\n",
       "      <td>17</td>\n",
       "      <td>May</td>\n",
       "      <td>Tuesday</td>\n",
       "      <td>2022-05-10 17:36:57</td>\n",
       "      <td>5.016667</td>\n",
       "      <td>Clinton St &amp; Madison St</td>\n",
       "      <td>TA1305000032</td>\n",
       "      <td>Morgan St &amp; Lake St</td>\n",
       "      <td>TA1306000015</td>\n",
       "      <td>41.882242</td>\n",
       "      <td>-87.641066</td>\n",
       "      <td>41.885779</td>\n",
       "      <td>-87.651025</td>\n",
       "      <td>member</td>\n",
       "      <td>41.882242, -87.641066</td>\n",
       "      <td>41.88577925240433, -87.65102460980414</td>\n",
       "      <td>Afternoon</td>\n",
       "    </tr>\n",
       "  </tbody>\n",
       "</table>\n",
       "</div>"
      ],
      "text/plain": [
       "            ride_id rideable_type          started_at  started_hour month  \\\n",
       "0  EC2DE40644C6B0F4  classic_bike 2022-05-23 23:06:58            23   May   \n",
       "1  1C31AD03897EE385  classic_bike 2022-05-11 08:53:28             8   May   \n",
       "2  1542FBEC830415CF  classic_bike 2022-05-26 18:36:28            18   May   \n",
       "3  6FF59852924528F8  classic_bike 2022-05-10 07:30:07             7   May   \n",
       "4  483C52CAAE12E3AC  classic_bike 2022-05-10 17:31:56            17   May   \n",
       "\n",
       "  day_of_week            ended_at  ride_length_mins  \\\n",
       "0      Monday 2022-05-23 23:40:19         33.350000   \n",
       "1   Wednesday 2022-05-11 09:31:22         37.900000   \n",
       "2    Thursday 2022-05-26 18:58:18         21.833333   \n",
       "3     Tuesday 2022-05-10 07:38:49          8.700000   \n",
       "4     Tuesday 2022-05-10 17:36:57          5.016667   \n",
       "\n",
       "                  start_station_name start_station_id  \\\n",
       "0             Wabash Ave & Grand Ave     TA1307000117   \n",
       "1  DuSable Lake Shore Dr & Monroe St            13300   \n",
       "2            Clinton St & Madison St     TA1305000032   \n",
       "3            Clinton St & Madison St     TA1305000032   \n",
       "4            Clinton St & Madison St     TA1305000032   \n",
       "\n",
       "              end_station_name end_station_id  start_lat  start_lng  \\\n",
       "0       Halsted St & Roscoe St   TA1309000025  41.891466 -87.626761   \n",
       "1  Field Blvd & South Water St          15534  41.880958 -87.616743   \n",
       "2      Wood St & Milwaukee Ave          13221  41.882242 -87.641066   \n",
       "3       Clark St & Randolph St   TA1305000030  41.882242 -87.641066   \n",
       "4          Morgan St & Lake St   TA1306000015  41.882242 -87.641066   \n",
       "\n",
       "     end_lat    end_lng member_casual              start_gps  \\\n",
       "0  41.943670 -87.648950        member  41.891466, -87.626761   \n",
       "1  41.886349 -87.617517        member  41.880958, -87.616743   \n",
       "2  41.907655 -87.672552        member  41.882242, -87.641066   \n",
       "3  41.884576 -87.631890        member  41.882242, -87.641066   \n",
       "4  41.885779 -87.651025        member  41.882242, -87.641066   \n",
       "\n",
       "                                 end_gps  time_type  \n",
       "0                    41.94367, -87.64895      Night  \n",
       "1         41.88634906269, -87.6175165471    Morning  \n",
       "2                  41.907655, -87.672552    Evening  \n",
       "3             41.884576228, -87.63188991    Morning  \n",
       "4  41.88577925240433, -87.65102460980414  Afternoon  "
      ]
     },
     "execution_count": 15,
     "metadata": {},
     "output_type": "execute_result"
    }
   ],
   "source": [
    "def rmUnuseableRows(df):\n",
    "    \"\"\"\n",
    "    return df with rows dropped that have null in specified column\n",
    "    \"\"\"\n",
    "    dfExclude = df[df[\"end_lat\"].isnull()]\n",
    "    return df.drop(index=dfExclude.index)\n",
    "\n",
    "\n",
    "def populateGPSCols(df):\n",
    "    df[\"start_gps\"] = (\n",
    "        df[\"start_lat\"].astype(\"str\") + \", \" + df[\"start_lng\"].astype(\"str\")\n",
    "    )\n",
    "    # TODO: some end lats/lngs are NaN. Check for them\n",
    "    df[\"end_gps\"] = df[\"end_lat\"].astype(\"str\") + \", \" + df[\"end_lng\"].astype(\"str\")\n",
    "    return df\n",
    "\n",
    "\n",
    "def timeToClass(x):\n",
    "    if 7 <= x <= 12:\n",
    "        return \"Morning\"\n",
    "    elif 12 < x <= 17:\n",
    "        return \"Afternoon\"\n",
    "    elif 17 < x <= 21:\n",
    "        return \"Evening\"\n",
    "    else:\n",
    "        return \"Night\"\n",
    "\n",
    "\n",
    "df = rmUnuseableRows(df)\n",
    "df = populateGPSCols(df)\n",
    "df.insert(3, column=\"started_hour\", value=df[\"started_at\"].dt.hour)\n",
    "df.insert(4, column=\"month\", value=df[\"started_at\"].dt.month_name())\n",
    "df.insert(5, column=\"day_of_week\", value=df[\"started_at\"].dt.day_name())\n",
    "df.insert(\n",
    "    7,\n",
    "    column=\"ride_length_mins\",\n",
    "    value=(df[\"ended_at\"] - df[\"started_at\"]).dt.total_seconds() / 60,\n",
    ")\n",
    "df[\"time_type\"] = df[\"started_hour\"].apply(timeToClass)\n",
    "\n",
    "df.head()"
   ]
  },
  {
   "attachments": {},
   "cell_type": "markdown",
   "metadata": {},
   "source": [
    "#### 5) Checking that ride_length is realistic"
   ]
  },
  {
   "attachments": {},
   "cell_type": "markdown",
   "metadata": {},
   "source": [
    "Rides that are longer than 10 hours are assumed to be people forgetting to register their ending station rides. Also, this is the upper limit for bikes being used for work and leisure purposes."
   ]
  },
  {
   "cell_type": "code",
   "execution_count": 16,
   "metadata": {},
   "outputs": [],
   "source": [
    "dfImpossible = df[df[\"ride_length_mins\"] > 600]\n",
    "df = df.drop(index=dfImpossible.index)\n",
    "del dfImpossible"
   ]
  },
  {
   "attachments": {},
   "cell_type": "markdown",
   "metadata": {},
   "source": [
    "We cannot have ending times earlier than starting times. We drop these."
   ]
  },
  {
   "cell_type": "code",
   "execution_count": 17,
   "metadata": {},
   "outputs": [],
   "source": [
    "dfImpossible = df[df[\"ride_length_mins\"] <= 0]\n",
    "df = df.drop(index=dfImpossible.index)\n",
    "del dfImpossible"
   ]
  },
  {
   "attachments": {},
   "cell_type": "markdown",
   "metadata": {},
   "source": [
    "We drop rides less than 2 minutes long with the same starting and ending positions, as we can assume that these are accidental AND rides that are less than a minute long. This is because it can be safely assumed that the vast majority of these are accidental uses and not deliberate use as transport."
   ]
  },
  {
   "cell_type": "code",
   "execution_count": 18,
   "metadata": {},
   "outputs": [],
   "source": [
    "dfNoRide = df[(df[\"ride_length_mins\"] < 2) & (df[\"start_gps\"] == df[\"end_gps\"])]\n",
    "dfNoRide\n",
    "df = df.drop(index=dfNoRide.index)\n",
    "del dfNoRide\n",
    "\n",
    "dfNoRide = df[(df[\"ride_length_mins\"] < 1)]\n",
    "dfNoRide\n",
    "df = df.drop(index=dfNoRide.index)\n",
    "del dfNoRide"
   ]
  },
  {
   "attachments": {},
   "cell_type": "markdown",
   "metadata": {},
   "source": [
    "#### 6) Dropping other datapoints that are unlikely to be \"real rides\"\n",
    "4 decimal place resolution of longitude/latitude corresponds to a metre. This means that if start and end gps are the exact same down to the resolution, it is much more likely that that the bike was put out by accident, then used as a ride and placed back in the exact same spot down to the centimetre. For this reason the datapoints will be dropped."
   ]
  },
  {
   "cell_type": "code",
   "execution_count": 19,
   "metadata": {},
   "outputs": [],
   "source": [
    "dfNoRide = df[(df[\"start_gps\"] == df[\"end_gps\"])]\n",
    "df = df.drop(index=dfNoRide.index)\n",
    "del dfNoRide"
   ]
  },
  {
   "attachments": {},
   "cell_type": "markdown",
   "metadata": {},
   "source": [
    "#### 7) Exploring Differences between casual and annual members"
   ]
  },
  {
   "cell_type": "code",
   "execution_count": 20,
   "metadata": {},
   "outputs": [
    {
     "data": {
      "text/plain": [
       "count     5480505\n",
       "unique          2\n",
       "top        member\n",
       "freq      3322642\n",
       "Name: member_casual, dtype: object"
      ]
     },
     "execution_count": 20,
     "metadata": {},
     "output_type": "execute_result"
    }
   ],
   "source": [
    "df[\"member_casual\"].describe()"
   ]
  },
  {
   "cell_type": "code",
   "execution_count": 21,
   "metadata": {},
   "outputs": [
    {
     "data": {
      "text/html": [
       "<div>\n",
       "<style scoped>\n",
       "    .dataframe tbody tr th:only-of-type {\n",
       "        vertical-align: middle;\n",
       "    }\n",
       "\n",
       "    .dataframe tbody tr th {\n",
       "        vertical-align: top;\n",
       "    }\n",
       "\n",
       "    .dataframe thead tr th {\n",
       "        text-align: left;\n",
       "    }\n",
       "\n",
       "    .dataframe thead tr:last-of-type th {\n",
       "        text-align: right;\n",
       "    }\n",
       "</style>\n",
       "<table border=\"1\" class=\"dataframe\">\n",
       "  <thead>\n",
       "    <tr>\n",
       "      <th></th>\n",
       "      <th colspan=\"8\" halign=\"left\">ride_length_mins</th>\n",
       "    </tr>\n",
       "    <tr>\n",
       "      <th></th>\n",
       "      <th>count</th>\n",
       "      <th>mean</th>\n",
       "      <th>std</th>\n",
       "      <th>min</th>\n",
       "      <th>25%</th>\n",
       "      <th>50%</th>\n",
       "      <th>75%</th>\n",
       "      <th>max</th>\n",
       "    </tr>\n",
       "    <tr>\n",
       "      <th>member_casual</th>\n",
       "      <th></th>\n",
       "      <th></th>\n",
       "      <th></th>\n",
       "      <th></th>\n",
       "      <th></th>\n",
       "      <th></th>\n",
       "      <th></th>\n",
       "      <th></th>\n",
       "    </tr>\n",
       "  </thead>\n",
       "  <tbody>\n",
       "    <tr>\n",
       "      <th>casual</th>\n",
       "      <td>2157863.0</td>\n",
       "      <td>19.880579</td>\n",
       "      <td>25.299889</td>\n",
       "      <td>1.0</td>\n",
       "      <td>7.433333</td>\n",
       "      <td>12.633333</td>\n",
       "      <td>22.600000</td>\n",
       "      <td>599.383333</td>\n",
       "    </tr>\n",
       "    <tr>\n",
       "      <th>member</th>\n",
       "      <td>3322642.0</td>\n",
       "      <td>12.196728</td>\n",
       "      <td>13.667767</td>\n",
       "      <td>1.0</td>\n",
       "      <td>5.300000</td>\n",
       "      <td>8.883333</td>\n",
       "      <td>15.083333</td>\n",
       "      <td>599.433333</td>\n",
       "    </tr>\n",
       "  </tbody>\n",
       "</table>\n",
       "</div>"
      ],
      "text/plain": [
       "              ride_length_mins                                       \\\n",
       "                         count       mean        std  min       25%   \n",
       "member_casual                                                         \n",
       "casual               2157863.0  19.880579  25.299889  1.0  7.433333   \n",
       "member               3322642.0  12.196728  13.667767  1.0  5.300000   \n",
       "\n",
       "                                                 \n",
       "                     50%        75%         max  \n",
       "member_casual                                    \n",
       "casual         12.633333  22.600000  599.383333  \n",
       "member          8.883333  15.083333  599.433333  "
      ]
     },
     "execution_count": 21,
     "metadata": {},
     "output_type": "execute_result"
    }
   ],
   "source": [
    "df[\n",
    "    [\n",
    "        \"day_of_week\",\n",
    "        \"start_station_id\",\n",
    "        \"rideable_type\",\n",
    "        \"ride_length_mins\",\n",
    "        \"start_station_name\",\n",
    "        \"member_casual\",\n",
    "    ]\n",
    "].groupby(by=[\"member_casual\"]).describe()"
   ]
  },
  {
   "cell_type": "code",
   "execution_count": 22,
   "metadata": {},
   "outputs": [
    {
     "data": {
      "text/html": [
       "<div>\n",
       "<style scoped>\n",
       "    .dataframe tbody tr th:only-of-type {\n",
       "        vertical-align: middle;\n",
       "    }\n",
       "\n",
       "    .dataframe tbody tr th {\n",
       "        vertical-align: top;\n",
       "    }\n",
       "\n",
       "    .dataframe thead tr th {\n",
       "        text-align: left;\n",
       "    }\n",
       "\n",
       "    .dataframe thead tr:last-of-type th {\n",
       "        text-align: right;\n",
       "    }\n",
       "</style>\n",
       "<table border=\"1\" class=\"dataframe\">\n",
       "  <thead>\n",
       "    <tr>\n",
       "      <th></th>\n",
       "      <th colspan=\"4\" halign=\"left\">start_station_name</th>\n",
       "      <th colspan=\"4\" halign=\"left\">end_station_name</th>\n",
       "    </tr>\n",
       "    <tr>\n",
       "      <th></th>\n",
       "      <th>count</th>\n",
       "      <th>unique</th>\n",
       "      <th>top</th>\n",
       "      <th>freq</th>\n",
       "      <th>count</th>\n",
       "      <th>unique</th>\n",
       "      <th>top</th>\n",
       "      <th>freq</th>\n",
       "    </tr>\n",
       "    <tr>\n",
       "      <th>member_casual</th>\n",
       "      <th></th>\n",
       "      <th></th>\n",
       "      <th></th>\n",
       "      <th></th>\n",
       "      <th></th>\n",
       "      <th></th>\n",
       "      <th></th>\n",
       "      <th></th>\n",
       "    </tr>\n",
       "  </thead>\n",
       "  <tbody>\n",
       "    <tr>\n",
       "      <th>casual</th>\n",
       "      <td>1863530</td>\n",
       "      <td>1621</td>\n",
       "      <td>Streeter Dr &amp; Grand Ave</td>\n",
       "      <td>48969</td>\n",
       "      <td>1814485</td>\n",
       "      <td>1624</td>\n",
       "      <td>Streeter Dr &amp; Grand Ave</td>\n",
       "      <td>51428</td>\n",
       "    </tr>\n",
       "    <tr>\n",
       "      <th>member</th>\n",
       "      <td>2889821</td>\n",
       "      <td>1510</td>\n",
       "      <td>Kingsbury St &amp; Kinzie St</td>\n",
       "      <td>24739</td>\n",
       "      <td>2902086</td>\n",
       "      <td>1495</td>\n",
       "      <td>Kingsbury St &amp; Kinzie St</td>\n",
       "      <td>24702</td>\n",
       "    </tr>\n",
       "  </tbody>\n",
       "</table>\n",
       "</div>"
      ],
      "text/plain": [
       "              start_station_name                                          \\\n",
       "                           count unique                       top   freq   \n",
       "member_casual                                                              \n",
       "casual                   1863530   1621   Streeter Dr & Grand Ave  48969   \n",
       "member                   2889821   1510  Kingsbury St & Kinzie St  24739   \n",
       "\n",
       "              end_station_name                                          \n",
       "                         count unique                       top   freq  \n",
       "member_casual                                                           \n",
       "casual                 1814485   1624   Streeter Dr & Grand Ave  51428  \n",
       "member                 2902086   1495  Kingsbury St & Kinzie St  24702  "
      ]
     },
     "execution_count": 22,
     "metadata": {},
     "output_type": "execute_result"
    }
   ],
   "source": [
    "df[[\"start_station_name\", \"end_station_name\", \"member_casual\"]].groupby(\n",
    "    by=[\"member_casual\"]\n",
    ").describe()"
   ]
  },
  {
   "cell_type": "code",
   "execution_count": 23,
   "metadata": {},
   "outputs": [
    {
     "data": {
      "text/plain": [
       "ride_id                    0\n",
       "rideable_type              0\n",
       "started_at                 0\n",
       "started_hour               0\n",
       "month                      0\n",
       "day_of_week                0\n",
       "ended_at                   0\n",
       "ride_length_mins           0\n",
       "start_station_name    727154\n",
       "start_station_id      727277\n",
       "end_station_name      763934\n",
       "end_station_id        764069\n",
       "start_lat                  0\n",
       "start_lng                  0\n",
       "end_lat                    0\n",
       "end_lng                    0\n",
       "member_casual              0\n",
       "start_gps                  0\n",
       "end_gps                    0\n",
       "time_type                  0\n",
       "dtype: int64"
      ]
     },
     "execution_count": 23,
     "metadata": {},
     "output_type": "execute_result"
    }
   ],
   "source": [
    "df.isnull().sum()"
   ]
  },
  {
   "attachments": {},
   "cell_type": "markdown",
   "metadata": {},
   "source": [
    "#### 7) Save the df to file"
   ]
  },
  {
   "cell_type": "code",
   "execution_count": 24,
   "metadata": {},
   "outputs": [],
   "source": [
    "df.to_csv(path + \"/processed/tripdata.csv\", index=False)"
   ]
  }
 ],
 "metadata": {
  "kernelspec": {
   "display_name": "Python 3",
   "language": "python",
   "name": "python3"
  },
  "language_info": {
   "codemirror_mode": {
    "name": "ipython",
    "version": 3
   },
   "file_extension": ".py",
   "mimetype": "text/x-python",
   "name": "python",
   "nbconvert_exporter": "python",
   "pygments_lexer": "ipython3",
   "version": "3.11.3"
  },
  "orig_nbformat": 4
 },
 "nbformat": 4,
 "nbformat_minor": 2
}
